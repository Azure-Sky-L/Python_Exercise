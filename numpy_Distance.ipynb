{
 "cells": [
  {
   "cell_type": "code",
   "execution_count": 187,
   "metadata": {},
   "outputs": [
    {
     "data": {
      "text/plain": [
       "2.8284271247461903"
      ]
     },
     "execution_count": 187,
     "metadata": {},
     "output_type": "execute_result"
    }
   ],
   "source": [
    "#0.如何计算两个数组之间的欧氏距离？\n",
    "import numpy as np\n",
    "a = np.array([1,2,3])\n",
    "b = np.array([3,2,1])\n",
    "# M 1\n",
    "def Dis(a,b):\n",
    "    dis = np.sqrt(np.sum(np.square(a - b)))\n",
    "    return dis\n",
    "Dis(a,b)\n",
    "# M 2\n",
    "dis = np.linalg.norm(a-b)\n",
    "dis"
   ]
  },
  {
   "cell_type": "code",
   "execution_count": 17,
   "metadata": {},
   "outputs": [
    {
     "data": {
      "text/plain": [
       "array([[0, 1, 2, 3, 4],\n",
       "       [5, 6, 7, 8, 9]])"
      ]
     },
     "execution_count": 17,
     "metadata": {},
     "output_type": "execute_result"
    }
   ],
   "source": [
    "arr = np.arange(10)\n",
    "arr.reshape(2,-1)"
   ]
  },
  {
   "cell_type": "code",
   "execution_count": 42,
   "metadata": {},
   "outputs": [
    {
     "data": {
      "text/plain": [
       "array([[0, 1, 2, 3, 4],\n",
       "       [5, 6, 7, 8, 9],\n",
       "       [1, 1, 1, 1, 1],\n",
       "       [1, 1, 1, 1, 1]])"
      ]
     },
     "execution_count": 42,
     "metadata": {},
     "output_type": "execute_result"
    }
   ],
   "source": [
    "#1.如何垂直堆叠两个数组?\n",
    "a = np.arange(10).reshape(2,-1)\n",
    "b = np.repeat(1,10).reshape(2,-1)\n",
    "# 三种方法\n",
    "np.concatenate([a,b],axis = 0)\n",
    "np.vstack([a,b])\n",
    "np.r_[a,b]"
   ]
  },
  {
   "cell_type": "code",
   "execution_count": 43,
   "metadata": {},
   "outputs": [
    {
     "data": {
      "text/plain": [
       "array([[0, 1, 2, 3, 4, 1, 1, 1, 1, 1],\n",
       "       [5, 6, 7, 8, 9, 1, 1, 1, 1, 1]])"
      ]
     },
     "execution_count": 43,
     "metadata": {},
     "output_type": "execute_result"
    }
   ],
   "source": [
    "#2.如何水平堆叠两个数组?\n",
    "a = np.arange(10).reshape(2,-1)\n",
    "b = np.repeat(1,10).reshape(2,-1)\n",
    "# 三种方法\n",
    "np.concatenate([a,b],axis = 1)\n",
    "np.hstack([a,b])\n",
    "np.c_[a,b]"
   ]
  },
  {
   "cell_type": "code",
   "execution_count": 44,
   "metadata": {},
   "outputs": [
    {
     "data": {
      "text/plain": [
       "array([1, 1, 1, 2, 2, 2, 3, 3, 3, 1, 2, 3, 1, 2, 3, 1, 2, 3])"
      ]
     },
     "execution_count": 44,
     "metadata": {},
     "output_type": "execute_result"
    }
   ],
   "source": [
    "#3.如何没有硬编码的情况下，在numpy中如何生成自定义序列\n",
    "# array([1, 1, 1, 2, 2, 2, 3, 3, 3, 1, 2, 3, 1, 2, 3, 1, 2, 3])\n",
    "a = np.array([1,2,3])\n",
    "np.r_[np.repeat(a,3), np.tile(a,3)]"
   ]
  },
  {
   "cell_type": "code",
   "execution_count": 47,
   "metadata": {},
   "outputs": [
    {
     "data": {
      "text/plain": [
       "array([5, 6])"
      ]
     },
     "execution_count": 47,
     "metadata": {},
     "output_type": "execute_result"
    }
   ],
   "source": [
    "# 4.如何获得两个python numpy数组之间的共同元素?\n",
    "a = np.array([1,2,3,4,5,6])\n",
    "b = np.array([5,6,7,8,9,10])\n",
    "np.intersect1d(a,b)"
   ]
  },
  {
   "cell_type": "code",
   "execution_count": 48,
   "metadata": {},
   "outputs": [
    {
     "data": {
      "text/plain": [
       "array([1, 2, 3, 4])"
      ]
     },
     "execution_count": 48,
     "metadata": {},
     "output_type": "execute_result"
    }
   ],
   "source": [
    "# 5.从一个数组中删除存在于另一个数组中的元素\n",
    "a = np.array([1,2,3,4,5,6])\n",
    "b = np.array([5,6,7,8,9,10])\n",
    "np.setdiff1d(a,b)"
   ]
  },
  {
   "cell_type": "code",
   "execution_count": 52,
   "metadata": {},
   "outputs": [
    {
     "data": {
      "text/plain": [
       "(array([1, 4, 5]),)"
      ]
     },
     "execution_count": 52,
     "metadata": {},
     "output_type": "execute_result"
    }
   ],
   "source": [
    "#6.获取两个数组元素匹配的索引号\n",
    "a = np.array([1,2,3,4,5,6])\n",
    "b = np.array([5,2,7,8,5,6])\n",
    "np.where(a == b)"
   ]
  },
  {
   "cell_type": "code",
   "execution_count": 69,
   "metadata": {},
   "outputs": [
    {
     "data": {
      "text/plain": [
       "array([ 5,  6,  7,  8,  9, 10])"
      ]
     },
     "execution_count": 69,
     "metadata": {},
     "output_type": "execute_result"
    }
   ],
   "source": [
    "#7.从numpy数组中提取给定范围内的所有数字\n",
    "a = np.arange(15)\n",
    "# M 1\n",
    "index = np.where((a >= 5) & (a <= 10))\n",
    "a[index]\n",
    "# M 2\n",
    "a = np.arange(15)\n",
    "index = np.where(np.logical_and(a >= 5,a <= 10))\n",
    "a[index]"
   ]
  },
  {
   "cell_type": "code",
   "execution_count": 70,
   "metadata": {},
   "outputs": [
    {
     "data": {
      "text/plain": [
       "array([5., 4., 3., 4., 5.])"
      ]
     },
     "execution_count": 70,
     "metadata": {},
     "output_type": "execute_result"
    }
   ],
   "source": [
    "#8.如何将处理标量的python函数在numpy数组上运行\n",
    "def maxx(x,y):\n",
    "    if x >= y:\n",
    "        return x\n",
    "    else:\n",
    "        return y\n",
    "    \n",
    "pair_max = np.vectorize(maxx,otypes = [float])\n",
    "a = np.array([1,2,3,4,5])\n",
    "b = np.array([5,4,3,2,1])\n",
    "pair_max(a,b)"
   ]
  },
  {
   "cell_type": "code",
   "execution_count": 80,
   "metadata": {},
   "outputs": [
    {
     "data": {
      "text/plain": [
       "array([[1, 0, 2],\n",
       "       [4, 3, 5],\n",
       "       [7, 6, 8]])"
      ]
     },
     "execution_count": 80,
     "metadata": {},
     "output_type": "execute_result"
    }
   ],
   "source": [
    "#9.如何交换2维numpy数组中的两个列\n",
    "arr = np.arange(9).reshape(3,3)\n",
    "arr\n",
    "arr[:,[1,0,2]]"
   ]
  },
  {
   "cell_type": "code",
   "execution_count": 84,
   "metadata": {},
   "outputs": [
    {
     "data": {
      "text/plain": [
       "array([[0, 1, 2],\n",
       "       [6, 7, 8],\n",
       "       [3, 4, 5]])"
      ]
     },
     "execution_count": 84,
     "metadata": {},
     "output_type": "execute_result"
    }
   ],
   "source": [
    "#10.如何交换2维numpy数组中的两个行\n",
    "arr = np.arange(9).reshape(3,3)\n",
    "arr\n",
    "arr[[0,2,1],:]"
   ]
  },
  {
   "cell_type": "code",
   "execution_count": 85,
   "metadata": {},
   "outputs": [
    {
     "data": {
      "text/plain": [
       "array([[6, 7, 8],\n",
       "       [3, 4, 5],\n",
       "       [0, 1, 2]])"
      ]
     },
     "execution_count": 85,
     "metadata": {},
     "output_type": "execute_result"
    }
   ],
   "source": [
    "#11.如何反转2维数组的行\n",
    "arr = np.arange(9).reshape(3,3)\n",
    "arr[::-1]"
   ]
  },
  {
   "cell_type": "code",
   "execution_count": 86,
   "metadata": {},
   "outputs": [
    {
     "data": {
      "text/plain": [
       "array([[2, 1, 0],\n",
       "       [5, 4, 3],\n",
       "       [8, 7, 6]])"
      ]
     },
     "execution_count": 86,
     "metadata": {},
     "output_type": "execute_result"
    }
   ],
   "source": [
    "#12.如何反转二维数组的列\n",
    "arr = np.arange(9).reshape(3,3)\n",
    "arr[:,::-1]"
   ]
  },
  {
   "cell_type": "code",
   "execution_count": 96,
   "metadata": {},
   "outputs": [
    {
     "data": {
      "text/plain": [
       "array([[6.38411285, 9.65893531, 7.40326103],\n",
       "       [5.29170575, 9.89979702, 5.5855423 ],\n",
       "       [9.71262855, 6.75392906, 8.9454541 ],\n",
       "       [8.87312591, 9.24831227, 5.6628751 ],\n",
       "       [8.36507115, 8.20616564, 8.004995  ]])"
      ]
     },
     "execution_count": 96,
     "metadata": {},
     "output_type": "execute_result"
    }
   ],
   "source": [
    "#13.如何创建一个包含5到10之间随机浮点数的二维数组\n",
    "arr = np.arange(9).reshape(3,3)\n",
    "# M 1\n",
    "rand_arr = np.random.randint(low=5,high=10,size=(5,3)) + np.random.random((5,3))\n",
    "rand_arr\n",
    "# M 2\n",
    "rand_arr = np.random.uniform(5,10,size = (5,3))\n",
    "rand_arr"
   ]
  },
  {
   "cell_type": "code",
   "execution_count": 108,
   "metadata": {},
   "outputs": [
    {
     "data": {
      "text/plain": [
       "array([[0.187, 0.689, 0.97 ],\n",
       "       [0.273, 0.148, 0.947],\n",
       "       [0.479, 0.64 , 0.055],\n",
       "       [0.019, 0.857, 0.501],\n",
       "       [0.07 , 0.996, 0.657]])"
      ]
     },
     "execution_count": 108,
     "metadata": {},
     "output_type": "execute_result"
    }
   ],
   "source": [
    "#14.打印python numpy数组并保留3位小数\n",
    "rand_arr = np.random.random([5,3])\n",
    "rand_arr\n",
    "np.set_printoptions(precision=3)\n",
    "rand_arr"
   ]
  },
  {
   "cell_type": "code",
   "execution_count": 111,
   "metadata": {},
   "outputs": [
    {
     "data": {
      "text/plain": [
       "array([ 0,  1,  2,  3,  4,  5,  6,  7,  8,  9, 10, 11, 12, 13, 14])"
      ]
     },
     "execution_count": 111,
     "metadata": {},
     "output_type": "execute_result"
    }
   ],
   "source": [
    "#15.如何在不截断的情况下打印完整的numpy数组\n",
    "a = np.arange(15)\n",
    "np.set_printoptions(threshold=np.nan)\n",
    "a"
   ]
  },
  {
   "cell_type": "code",
   "execution_count": 114,
   "metadata": {},
   "outputs": [
    {
     "data": {
      "text/plain": [
       "array([[b'5.1', b'3.5', b'1.4', b'0.2', b'Iris-setosa'],\n",
       "       [b'4.9', b'3.0', b'1.4', b'0.2', b'Iris-setosa'],\n",
       "       [b'4.7', b'3.2', b'1.3', b'0.2', b'Iris-setosa'],\n",
       "       [b'4.6', b'3.1', b'1.5', b'0.2', b'Iris-setosa'],\n",
       "       [b'5.0', b'3.6', b'1.4', b'0.2', b'Iris-setosa'],\n",
       "       [b'5.4', b'3.9', b'1.7', b'0.4', b'Iris-setosa']], dtype=object)"
      ]
     },
     "execution_count": 114,
     "metadata": {},
     "output_type": "execute_result"
    }
   ],
   "source": [
    "# 16.如何在python numpy中导入含有数字和文本的数据集，并保持的文本完整性\n",
    "url = 'https://archive.ics.uci.edu/ml/machine-learning-databases/iris/iris.data'\n",
    "iris = np.genfromtxt(url,delimiter=',',dtype='object')\n",
    "iris[:6]"
   ]
  },
  {
   "cell_type": "code",
   "execution_count": 117,
   "metadata": {},
   "outputs": [
    {
     "name": "stderr",
     "output_type": "stream",
     "text": [
      "/home/mzl/anaconda3/lib/python3.6/site-packages/ipykernel_launcher.py:3: VisibleDeprecationWarning: Reading unicode strings without specifying the encoding argument is deprecated. Set the encoding, use None for the system default.\n",
      "  This is separate from the ipykernel package so we can avoid doing imports until\n"
     ]
    },
    {
     "data": {
      "text/plain": [
       "array([b'Iris-setosa', b'Iris-setosa', b'Iris-setosa'], dtype='|S18')"
      ]
     },
     "execution_count": 117,
     "metadata": {},
     "output_type": "execute_result"
    }
   ],
   "source": [
    "# 17.如何从一维元组数组中提取特定的列\n",
    "url = 'https://archive.ics.uci.edu/ml/machine-learning-databases/iris/iris.data'\n",
    "iris_id = np.genfromtxt(url, delimiter=',',dtype=None)\n",
    "sp = np.array([row[4] for row in iris_id])\n",
    "sp[:3]"
   ]
  },
  {
   "cell_type": "code",
   "execution_count": 119,
   "metadata": {},
   "outputs": [
    {
     "data": {
      "text/plain": [
       "(3.0, 3.0, 1.4142135623730951)"
      ]
     },
     "execution_count": 119,
     "metadata": {},
     "output_type": "execute_result"
    }
   ],
   "source": [
    "# 18.如何计算numpy数组的平均值，中位数，标准差\n",
    "a = np.array([1,2,3,4,5])\n",
    "mu,med,sd = np.mean(a) , np.median(a) , np.std(a)\n",
    "mu,med,sd"
   ]
  },
  {
   "cell_type": "code",
   "execution_count": 129,
   "metadata": {},
   "outputs": [
    {
     "data": {
      "text/plain": [
       "array([0.  , 0.25, 0.5 , 0.75, 1.  ])"
      ]
     },
     "execution_count": 129,
     "metadata": {},
     "output_type": "execute_result"
    }
   ],
   "source": [
    "#19.如何标准化一个数组至0到1之间\n",
    "a = np.array([1,2,3,4,5])\n",
    "smax ,smin = a.max(), a.min()\n",
    "smax,smin\n",
    "S = (a - smin) / (smax - smin)\n",
    "S"
   ]
  },
  {
   "cell_type": "code",
   "execution_count": 130,
   "metadata": {},
   "outputs": [
    {
     "data": {
      "text/plain": [
       "array([0.012, 0.032, 0.086, 0.234, 0.636])"
      ]
     },
     "execution_count": 130,
     "metadata": {},
     "output_type": "execute_result"
    }
   ],
   "source": [
    "#20.如何计算softmax值\n",
    "a = np.array([1,2,3,4,5])\n",
    "def softmax(x):\n",
    "    ex = np.exp(x - np.max(x))\n",
    "    return ex / ex.sum(axis = 0)\n",
    "softmax(a)"
   ]
  },
  {
   "cell_type": "code",
   "execution_count": 136,
   "metadata": {},
   "outputs": [
    {
     "data": {
      "text/plain": [
       "array([[6, 7, 8]])"
      ]
     },
     "execution_count": 136,
     "metadata": {},
     "output_type": "execute_result"
    }
   ],
   "source": [
    "# 21.如何根据两个或多个条件过滤一个numpy数组？\n",
    "a = np.arange(9).reshape(3,3)\n",
    "b = (a[:,2] > 5) & (a[:,0] > 5)\n",
    "a[b]"
   ]
  },
  {
   "cell_type": "code",
   "execution_count": 137,
   "metadata": {},
   "outputs": [
    {
     "data": {
      "text/plain": [
       "4"
      ]
     },
     "execution_count": 137,
     "metadata": {},
     "output_type": "execute_result"
    }
   ],
   "source": [
    "#22.如何获得数组中第二大的元素值？\n",
    "a = np.array([5,2,4,3,1])\n",
    "np.unique(np.sort(a))[-2]"
   ]
  },
  {
   "cell_type": "code",
   "execution_count": 141,
   "metadata": {},
   "outputs": [
    {
     "data": {
      "text/plain": [
       "(array([1, 2, 3, 4]), array([1, 1, 2, 1]))"
      ]
     },
     "execution_count": 141,
     "metadata": {},
     "output_type": "execute_result"
    }
   ],
   "source": [
    "#23.如何在numpy数组中找到最频繁出现的值？\n",
    "a = np.array([1,2,3,3,4])\n",
    "vl,counts = np.unique(a, return_counts=True)\n",
    "vl[np.argmax(counts)]\n",
    "vl,counts"
   ]
  },
  {
   "cell_type": "code",
   "execution_count": 143,
   "metadata": {},
   "outputs": [
    {
     "data": {
      "text/plain": [
       "array([3, 3, 3, 4, 4])"
      ]
     },
     "execution_count": 143,
     "metadata": {},
     "output_type": "execute_result"
    }
   ],
   "source": [
    "#24.如何将所有大于给定值的值替换为给定的cutoff值\n",
    "a = np.array([1,2,3,4,5])\n",
    "np.where(a < 3,3, np.where(a > 4,4,a))"
   ]
  },
  {
   "cell_type": "code",
   "execution_count": 153,
   "metadata": {},
   "outputs": [
    {
     "data": {
      "text/plain": [
       "array([0, 1, 2, 0, 1, 2, 0, 1, 2])"
      ]
     },
     "execution_count": 153,
     "metadata": {},
     "output_type": "execute_result"
    }
   ],
   "source": [
    "#25.如何将多维数组转换为平坦的一维数组？\n",
    "a = np.arange(3)\n",
    "b = np.arange(3,7)\n",
    "c = np.arange(7,10)\n",
    "d = np.array([a, b, c])\n",
    "e = np.array([i for j in d for i in a])\n",
    "e"
   ]
  },
  {
   "cell_type": "code",
   "execution_count": 158,
   "metadata": {},
   "outputs": [
    {
     "data": {
      "text/plain": [
       "[0, 0, 0, 0, 0, 0, 0, 0, 1, 1, 1, 1, 1, 1, 1, 1, 2, 2, 2, 2]"
      ]
     },
     "execution_count": 158,
     "metadata": {},
     "output_type": "execute_result"
    }
   ],
   "source": [
    "#26.如何根据给定的分类变量创建分组ID？\n",
    "url = 'https://archive.ics.uci.edu/ml/machine-learning-databases/iris/iris.data'\n",
    "sp = np.genfromtxt(url, delimiter=',',dtype='str', usecols=4)\n",
    "ss = np.sort(np.random.choice(sp, size=20))\n",
    "output = [np.argwhere(np.unique(ss) == s).tolist()[0][0] for val in np.unique(ss) \n",
    "          for s in ss[ss == val]]\n",
    "output"
   ]
  },
  {
   "cell_type": "code",
   "execution_count": 174,
   "metadata": {},
   "outputs": [
    {
     "data": {
      "text/plain": [
       "array([9, 9, 4, 9, 9])"
      ]
     },
     "execution_count": 174,
     "metadata": {},
     "output_type": "execute_result"
    }
   ],
   "source": [
    "#27.如何找到numpy二维数组每一行中的最大值\n",
    "a = np.random.randint(1,10,[5,3])\n",
    "a\n",
    "np.amax(a,axis = 1) # axis = 0 ：每一列的最大值"
   ]
  },
  {
   "cell_type": "code",
   "execution_count": 210,
   "metadata": {},
   "outputs": [],
   "source": [
    "#28.如何将PIL图像转换为numpy数组？\n",
    "from io import BytesIO\n",
    "from PIL import Image\n",
    "import PIL ,requests\n",
    "URL='https://upload.wikimedia.org/wikipedia/commons/8/8b/Denali_Mt_McKinley.jpg'\n",
    "re = requests.get(URL)\n",
    "I = Image.open(BytesIO(re.content))\n",
    "#I = I.resize([150,150])\n",
    "I = np.array(I)\n",
    "#I\n",
    "#I[...,::-1]\n",
    "#I[:,[2,1,0]]\n",
    "#im = PIL.Image.fromarray(np.uint8(I))\n",
    "#Image.Image.show(im)\n"
   ]
  },
  {
   "cell_type": "code",
   "execution_count": 213,
   "metadata": {},
   "outputs": [
    {
     "data": {
      "text/plain": [
       "-0.08"
      ]
     },
     "execution_count": 213,
     "metadata": {},
     "output_type": "execute_result"
    }
   ],
   "source": [
    "#sigmoid：\n",
    "def sigmoid(x):\n",
    "    return 1.0 / (1.0 + np.exp(-x))\n",
    "\n",
    "def tanh(x):\n",
    "    return 2 * sigmoid(2*x) - 1\n",
    "\n",
    "def relu(x):\n",
    "    return max(0,x)\n",
    "\n",
    "def Leaky_Relu(x):\n",
    "    a = 0.01 # a 取值一般为0.1或者0.01\n",
    "    return max(a * x, x)\n",
    "\n",
    "Leaky_Relu(-8)"
   ]
  },
  {
   "cell_type": "code",
   "execution_count": null,
   "metadata": {},
   "outputs": [],
   "source": []
  }
 ],
 "metadata": {
  "kernelspec": {
   "display_name": "Python 3",
   "language": "python",
   "name": "python3"
  },
  "language_info": {
   "codemirror_mode": {
    "name": "ipython",
    "version": 3
   },
   "file_extension": ".py",
   "mimetype": "text/x-python",
   "name": "python",
   "nbconvert_exporter": "python",
   "pygments_lexer": "ipython3",
   "version": "3.6.4"
  }
 },
 "nbformat": 4,
 "nbformat_minor": 2
}
